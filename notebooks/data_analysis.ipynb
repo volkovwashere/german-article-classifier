{
 "cells": [
  {
   "cell_type": "code",
   "execution_count": 13,
   "id": "20d99b2e",
   "metadata": {},
   "outputs": [],
   "source": [
    "import pandas as pd\n",
    "import os\n",
    "import re"
   ]
  },
  {
   "cell_type": "code",
   "execution_count": 2,
   "id": "8581b6cf",
   "metadata": {},
   "outputs": [],
   "source": [
    "# CONSTANTS\n",
    "DATA_PATH = \"D:/10kgerdataset/\"\n",
    "TRAIN_CSV = \"train.csv\"\n",
    "TEST_CSV = \"test.csv\""
   ]
  },
  {
   "cell_type": "code",
   "execution_count": 8,
   "id": "69d1e03f",
   "metadata": {},
   "outputs": [],
   "source": [
    "try:\n",
    "    df_train = pd.read_csv(os.path.join(DATA_PATH, TRAIN_CSV))\n",
    "    df_test = pd.read_csv(os.path.join(DATA_PATH, TEST_CSV))\n",
    "except FileNotFoundError:\n",
    "    print(\"File was not found at specific location.\")\n",
    "    raise"
   ]
  },
  {
   "cell_type": "code",
   "execution_count": 6,
   "id": "b1ffaf5e",
   "metadata": {},
   "outputs": [
    {
     "data": {
      "text/html": [
       "<div>\n",
       "<style scoped>\n",
       "    .dataframe tbody tr th:only-of-type {\n",
       "        vertical-align: middle;\n",
       "    }\n",
       "\n",
       "    .dataframe tbody tr th {\n",
       "        vertical-align: top;\n",
       "    }\n",
       "\n",
       "    .dataframe thead th {\n",
       "        text-align: right;\n",
       "    }\n",
       "</style>\n",
       "<table border=\"1\" class=\"dataframe\">\n",
       "  <thead>\n",
       "    <tr style=\"text-align: right;\">\n",
       "      <th></th>\n",
       "      <th>text</th>\n",
       "      <th>label</th>\n",
       "    </tr>\n",
       "  </thead>\n",
       "  <tbody>\n",
       "    <tr>\n",
       "      <th>0</th>\n",
       "      <td>Störerhaftung in Deutschland bringt Anschlussi...</td>\n",
       "      <td>Web</td>\n",
       "    </tr>\n",
       "    <tr>\n",
       "      <th>1</th>\n",
       "      <td>Experten machen Abwassersystem und Urbanisieru...</td>\n",
       "      <td>Panorama</td>\n",
       "    </tr>\n",
       "    <tr>\n",
       "      <th>2</th>\n",
       "      <td>Weltranglisten-Sechster machte gegen Niederöst...</td>\n",
       "      <td>Sport</td>\n",
       "    </tr>\n",
       "    <tr>\n",
       "      <th>3</th>\n",
       "      <td>Dem weltgrößten Ziegelhersteller macht die sch...</td>\n",
       "      <td>Wirtschaft</td>\n",
       "    </tr>\n",
       "    <tr>\n",
       "      <th>4</th>\n",
       "      <td>Eine Wahlniederlage in Oberösterreich ist für ...</td>\n",
       "      <td>Inland</td>\n",
       "    </tr>\n",
       "  </tbody>\n",
       "</table>\n",
       "</div>"
      ],
      "text/plain": [
       "                                                text       label\n",
       "0  Störerhaftung in Deutschland bringt Anschlussi...         Web\n",
       "1  Experten machen Abwassersystem und Urbanisieru...    Panorama\n",
       "2  Weltranglisten-Sechster machte gegen Niederöst...       Sport\n",
       "3  Dem weltgrößten Ziegelhersteller macht die sch...  Wirtschaft\n",
       "4  Eine Wahlniederlage in Oberösterreich ist für ...      Inland"
      ]
     },
     "execution_count": 6,
     "metadata": {},
     "output_type": "execute_result"
    }
   ],
   "source": [
    "# preprocessing\n"
   ]
  },
  {
   "cell_type": "code",
   "execution_count": 11,
   "id": "e5c580f3",
   "metadata": {},
   "outputs": [
    {
     "data": {
      "text/plain": [
       "'angesichts des zustroms von flüchtlingen sollten die baulichen vorschreibungen und damit die wohnungskosten gesenkt werden. wien – man habe in der vergangenheit immer mit steigenden auflagen gebaut, substandard-wohnungen gebe es keine mehr, aber man brauche mehr preisgünstige wohnungen für bezieher von niedrigsteinkommen, sagte der chef der s-bausparkasse josef schmidinger am montagabend vor journalisten. auch vor dem hintergrund der nach österreich kommenden flüchtlinge. derzeit teilen sich vier bis fünf menschen eine wohnung, die 600 euro im monat koste, dass sei keine lösung. wir brauchen standards, die sich die leute leisten können. in niederösterreich kostet der quadratmeter bautechnisch 2.300 euro, das gehe aber auch um 1.600 euro ohne die hohen auflagen, so schmidinger. es seien daher kompromisse gefordert, etwa bei der ausstattung. man brauche wohnungen, die bei einer größe von 60 bis 65 quadratmetern 400 bis 500 euro netto kosteten. einsparpotenzial gäbe es beispielsweise bei der fensterqualität, garagen, lift, stiegenhäusern oder anderen ausstattungen. in österreich werden heuer rund 50.000 wohnungen gebaut. man schiebe aber seit jahren einen mangelbedarf von insgesamt rund 30.000 wohnungen vor sich her. die s-bausparkasse hat heuer bis september mehr neue kredite vergeben. die zahl der neuen bausparverträge sinkt dagegen heuer, wegen des wegfalls der bank austria als vertriebspartner, so schmidinger am montagabend vor journalisten. der ausleihungsbestand ist rückläufig, nicht zuletzt weil die kunden kredite vorzeitig zurückzahlen. wir sehen eine nachfrage nach krediten, die österreicher sind bereit sich zu verschulden, aber angesichts der niedrigstzinsen eine verhaltene bereitschaft zum sparen. insgesamt seien die spareinlagen der privaten haushalte rückläufig gewesen, die kreditnachfrage gestiegen. per ende august seien die spareinlagen der privaten bei 219 mrd. euro und damit um 1,8 prozent unter dem vorjahreswert gelegen. die unternehmen und die öffentliche hand  sparten dagegen mehr, so schmidinger. in der bauwirtschaft sei man im wohnbau eher ausgelastet, im tiefbau sei die zurückhaltung der öffentlichen hand bei infrastrukturinvestitionen spürbar. bei der s-bausparkasse legte die finanzierungsleistung von jänner bis september um 3,2 prozent auf 638 mio. euro zu, die zugesagte darlehenssumme um 22,2 prozent auf 448 mio. euro. die zahl der neuverträge ging um 16 prozent auf rund 168.000 stück zurück. bis jahresende rechnet die s-bausparkasse mit rund 240.000 neuabschlüssen, das wären um zehn prozent weniger als im jahr davor. ankurbeln will man die neuabschlüsse auch mit einer herbstaktion. neue bausparer erhalten eine vom maler christian ludwig attersee gestaltete uhr.. allein aufgrund der kooperation mit attersee rechnet die s-bausparkasse mit mehr als 50.000 verträgen.'"
      ]
     },
     "execution_count": 11,
     "metadata": {},
     "output_type": "execute_result"
    }
   ],
   "source": [
    "df_train[\"text\"][0].lower()"
   ]
  },
  {
   "cell_type": "code",
   "execution_count": 57,
   "id": "06e18f98",
   "metadata": {},
   "outputs": [],
   "source": [
    "def remove_punctuation(document: str) -> str:\n",
    "    return re.sub(r'[^\\w\\s]', '', document)\n",
    "\n",
    "def remove_numbers(document: str) -> str:\n",
    "    return re.sub(r'$\\d+\\W+|\\b\\d+\\b|\\W+\\d+$', '', document)\n",
    "\n",
    "def map_umlaut(document: str) -> str:\n",
    "    umlaut_mapping = {\n",
    "        \"ß\": \"b\",\n",
    "        \"ü\": \"u\",\n",
    "        \"ä\": \"a\",\n",
    "        \"ö\": \"o\",\n",
    "        \"ë\": \"e\",\n",
    "    }\n",
    "    for k, v in umlaut_mapping.items():\n",
    "        document = document.replace(k, v)\n",
    "    return document"
   ]
  },
  {
   "cell_type": "code",
   "execution_count": 59,
   "id": "4ba423a1",
   "metadata": {},
   "outputs": [],
   "source": [
    "def run_pre_processing_pipeline(df):\n",
    "    df[\"text\"] = df[\"text\"].str.lower()\n",
    "    df[\"label\"] = df[\"label\"].str.lower()\n",
    "    \n",
    "    df[\"text\"] = df[\"text\"].apply(text_pre_processing)\n",
    "    df[\"text\"] = df[\"text\"].apply(remove_numbers)\n",
    "    df[\"text\"] = df[\"text\"].apply(map_umlaut)\n",
    "    return df"
   ]
  },
  {
   "cell_type": "code",
   "execution_count": 60,
   "id": "b1dc25d6",
   "metadata": {},
   "outputs": [],
   "source": [
    "a = run_pre_processing_pipeline(df_test)"
   ]
  },
  {
   "cell_type": "code",
   "execution_count": 61,
   "id": "5ef938b4",
   "metadata": {},
   "outputs": [
    {
     "data": {
      "text/html": [
       "<div>\n",
       "<style scoped>\n",
       "    .dataframe tbody tr th:only-of-type {\n",
       "        vertical-align: middle;\n",
       "    }\n",
       "\n",
       "    .dataframe tbody tr th {\n",
       "        vertical-align: top;\n",
       "    }\n",
       "\n",
       "    .dataframe thead th {\n",
       "        text-align: right;\n",
       "    }\n",
       "</style>\n",
       "<table border=\"1\" class=\"dataframe\">\n",
       "  <thead>\n",
       "    <tr style=\"text-align: right;\">\n",
       "      <th></th>\n",
       "      <th>text</th>\n",
       "      <th>label</th>\n",
       "    </tr>\n",
       "  </thead>\n",
       "  <tbody>\n",
       "    <tr>\n",
       "      <th>0</th>\n",
       "      <td>storerhaftung in deutschland bringt anschlussi...</td>\n",
       "      <td>web</td>\n",
       "    </tr>\n",
       "    <tr>\n",
       "      <th>1</th>\n",
       "      <td>experten machen abwassersystem und urbanisieru...</td>\n",
       "      <td>panorama</td>\n",
       "    </tr>\n",
       "    <tr>\n",
       "      <th>2</th>\n",
       "      <td>weltranglistensechster machte gegen niederoste...</td>\n",
       "      <td>sport</td>\n",
       "    </tr>\n",
       "    <tr>\n",
       "      <th>3</th>\n",
       "      <td>dem weltgrobten ziegelhersteller macht die sch...</td>\n",
       "      <td>wirtschaft</td>\n",
       "    </tr>\n",
       "    <tr>\n",
       "      <th>4</th>\n",
       "      <td>eine wahlniederlage in oberosterreich ist fur ...</td>\n",
       "      <td>inland</td>\n",
       "    </tr>\n",
       "    <tr>\n",
       "      <th>...</th>\n",
       "      <td>...</td>\n",
       "      <td>...</td>\n",
       "    </tr>\n",
       "    <tr>\n",
       "      <th>2051</th>\n",
       "      <td>wiener setzten sich gegen gaste aus tschechien...</td>\n",
       "      <td>sport</td>\n",
       "    </tr>\n",
       "    <tr>\n",
       "      <th>2052</th>\n",
       "      <td>heftige kampfe an der grenze riadsanaa  die ho...</td>\n",
       "      <td>international</td>\n",
       "    </tr>\n",
       "    <tr>\n",
       "      <th>2053</th>\n",
       "      <td>mischkonzern damian wanda ubernimmt hollywoods...</td>\n",
       "      <td>wirtschaft</td>\n",
       "    </tr>\n",
       "    <tr>\n",
       "      <th>2054</th>\n",
       "      <td>hillary clinton kritisiert militarakademie weg...</td>\n",
       "      <td>panorama</td>\n",
       "    </tr>\n",
       "    <tr>\n",
       "      <th>2055</th>\n",
       "      <td>lenny abrahamsons filmdrama erkundet eine mutt...</td>\n",
       "      <td>kultur</td>\n",
       "    </tr>\n",
       "  </tbody>\n",
       "</table>\n",
       "<p>2056 rows × 2 columns</p>\n",
       "</div>"
      ],
      "text/plain": [
       "                                                   text          label\n",
       "0     storerhaftung in deutschland bringt anschlussi...            web\n",
       "1     experten machen abwassersystem und urbanisieru...       panorama\n",
       "2     weltranglistensechster machte gegen niederoste...          sport\n",
       "3     dem weltgrobten ziegelhersteller macht die sch...     wirtschaft\n",
       "4     eine wahlniederlage in oberosterreich ist fur ...         inland\n",
       "...                                                 ...            ...\n",
       "2051  wiener setzten sich gegen gaste aus tschechien...          sport\n",
       "2052  heftige kampfe an der grenze riadsanaa  die ho...  international\n",
       "2053  mischkonzern damian wanda ubernimmt hollywoods...     wirtschaft\n",
       "2054  hillary clinton kritisiert militarakademie weg...       panorama\n",
       "2055  lenny abrahamsons filmdrama erkundet eine mutt...         kultur\n",
       "\n",
       "[2056 rows x 2 columns]"
      ]
     },
     "execution_count": 61,
     "metadata": {},
     "output_type": "execute_result"
    }
   ],
   "source": [
    "a"
   ]
  },
  {
   "cell_type": "code",
   "execution_count": 46,
   "id": "9b23eb66",
   "metadata": {},
   "outputs": [],
   "source": [
    "b = \"Ä\"\n",
    "b = b.lower()"
   ]
  },
  {
   "cell_type": "code",
   "execution_count": 58,
   "id": "ff2f0c89",
   "metadata": {},
   "outputs": [
    {
     "data": {
      "text/plain": [
       "'a'"
      ]
     },
     "execution_count": 58,
     "metadata": {},
     "output_type": "execute_result"
    }
   ],
   "source": [
    "map_umlaut(b)"
   ]
  },
  {
   "cell_type": "code",
   "execution_count": 51,
   "id": "a3e92a51",
   "metadata": {},
   "outputs": [
    {
     "data": {
      "text/plain": [
       "dict_keys(['ß', 'ü', 'ä', 'ö', 'ë'])"
      ]
     },
     "execution_count": 51,
     "metadata": {},
     "output_type": "execute_result"
    }
   ],
   "source": [
    "umlaut_mapping.keys()"
   ]
  },
  {
   "cell_type": "code",
   "execution_count": 52,
   "id": "f387203e",
   "metadata": {},
   "outputs": [
    {
     "data": {
      "text/plain": [
       "True"
      ]
     },
     "execution_count": 52,
     "metadata": {},
     "output_type": "execute_result"
    }
   ],
   "source": [
    "b in umlaut_mapping.keys()"
   ]
  },
  {
   "cell_type": "code",
   "execution_count": null,
   "id": "850533e0",
   "metadata": {},
   "outputs": [],
   "source": []
  }
 ],
 "metadata": {
  "kernelspec": {
   "display_name": "Python 3 (ipykernel)",
   "language": "python",
   "name": "python3"
  },
  "language_info": {
   "codemirror_mode": {
    "name": "ipython",
    "version": 3
   },
   "file_extension": ".py",
   "mimetype": "text/x-python",
   "name": "python",
   "nbconvert_exporter": "python",
   "pygments_lexer": "ipython3",
   "version": "3.9.7"
  }
 },
 "nbformat": 4,
 "nbformat_minor": 5
}
