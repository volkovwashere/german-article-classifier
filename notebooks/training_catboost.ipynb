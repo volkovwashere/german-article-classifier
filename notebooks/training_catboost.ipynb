{
 "cells": [
  {
   "cell_type": "code",
   "execution_count": 3,
   "id": "fb71a035",
   "metadata": {},
   "outputs": [],
   "source": [
    "import pandas as pd\n",
    "import os\n",
    "import re\n",
    "import seaborn as sns\n",
    "import matplotlib.pyplot as plt\n",
    "from nltk.corpus import stopwords\n",
    "import numpy as np\n",
    "import nltk"
   ]
  },
  {
   "cell_type": "code",
   "execution_count": 4,
   "id": "65f131a4",
   "metadata": {},
   "outputs": [],
   "source": [
    "german_stop_words = stopwords.words('german')\n",
    "german_stop_words.append(\"fur\")"
   ]
  },
  {
   "cell_type": "code",
   "execution_count": 5,
   "id": "fc54835b",
   "metadata": {},
   "outputs": [],
   "source": [
    "# CONSTANTS\n",
    "DATA_PATH = \"D:/10kgerdataset/\"\n",
    "TRAIN_CSV = \"train.csv\"\n",
    "TEST_CSV = \"test.csv\""
   ]
  },
  {
   "cell_type": "code",
   "execution_count": 6,
   "id": "e6e22901",
   "metadata": {},
   "outputs": [],
   "source": [
    "try:\n",
    "    df_train = pd.read_csv(os.path.join(DATA_PATH, TRAIN_CSV))\n",
    "    df_test = pd.read_csv(os.path.join(DATA_PATH, TEST_CSV))\n",
    "except FileNotFoundError:\n",
    "    print(\"File was not found at specific location.\")\n",
    "    raise"
   ]
  },
  {
   "cell_type": "code",
   "execution_count": 7,
   "id": "7be80e5f",
   "metadata": {},
   "outputs": [],
   "source": [
    "def remove_punctuation(document: str) -> str:\n",
    "    return re.sub(r'[^\\w\\s]', '', document)\n",
    "\n",
    "def remove_numbers(document: str) -> str:\n",
    "    return re.sub(r'$\\d+\\W+|\\b\\d+\\b|\\W+\\d+$', '', document)\n",
    "\n",
    "def map_umlaut(document: str) -> str:\n",
    "    umlaut_mapping = {\n",
    "        \"ß\": \"b\",\n",
    "        \"ü\": \"u\",\n",
    "        \"ä\": \"a\",\n",
    "        \"ö\": \"o\",\n",
    "        \"ë\": \"e\",\n",
    "    }\n",
    "    for k, v in umlaut_mapping.items():\n",
    "        document = document.replace(k, v)\n",
    "    return document\n",
    "\n",
    "def stop_word_removal(document: str) -> str:\n",
    "    return \" \".join(w for w in document.split() if w not in german_stop_words)"
   ]
  },
  {
   "cell_type": "code",
   "execution_count": 8,
   "id": "e17199e5",
   "metadata": {},
   "outputs": [],
   "source": [
    "def run_pre_processing_pipeline(df):\n",
    "    new_df = df.copy(deep=False)\n",
    "    \n",
    "    new_df[\"text\"] = new_df[\"text\"].str.lower()\n",
    "    new_df[\"label\"] = new_df[\"label\"].str.lower()\n",
    "    \n",
    "    new_df = new_df.dropna()\n",
    "    \n",
    "    new_df[\"text\"] = new_df[\"text\"].apply(remove_punctuation)\n",
    "    new_df[\"text\"] = new_df[\"text\"].apply(remove_numbers)\n",
    "    new_df[\"text\"] = new_df[\"text\"].apply(map_umlaut)\n",
    "    new_df[\"text\"] = new_df[\"text\"].apply(stop_word_removal)\n",
    "    return new_df"
   ]
  },
  {
   "cell_type": "code",
   "execution_count": 9,
   "id": "f026e889",
   "metadata": {},
   "outputs": [],
   "source": [
    "df_train = run_pre_processing_pipeline(df_train)\n",
    "df_test = run_pre_processing_pipeline(df_test)"
   ]
  },
  {
   "cell_type": "code",
   "execution_count": 10,
   "id": "c3f59a81",
   "metadata": {},
   "outputs": [],
   "source": [
    "text_features = [\"text\"]"
   ]
  },
  {
   "cell_type": "code",
   "execution_count": 11,
   "id": "f93089d7",
   "metadata": {},
   "outputs": [],
   "source": [
    "x_train = np.array(df_train[\"text\"])\n",
    "y_train = np.array(df_train[\"label\"])\n",
    "x_test = np.array(df_test[\"text\"])\n",
    "y_test = np.array(df_test[\"label\"])"
   ]
  },
  {
   "cell_type": "code",
   "execution_count": 18,
   "id": "05a59afd",
   "metadata": {},
   "outputs": [],
   "source": [
    "from catboost import Pool, CatBoostClassifier"
   ]
  },
  {
   "cell_type": "code",
   "execution_count": 20,
   "id": "5074a932",
   "metadata": {},
   "outputs": [],
   "source": [
    "from sklearn.utils.class_weight import compute_class_weight\n",
    " \n",
    "classes = np.unique(y_train)\n",
    "weights = compute_class_weight(class_weight='balanced', classes=classes, y=y_train)"
   ]
  },
  {
   "cell_type": "code",
   "execution_count": 131,
   "id": "bc7b77b5",
   "metadata": {
    "scrolled": true
   },
   "outputs": [
    {
     "data": {
      "application/vnd.jupyter.widget-view+json": {
       "model_id": "e9767d90e64f410fa27e3b4044d1b652",
       "version_major": 2,
       "version_minor": 0
      },
      "text/plain": [
       "MetricVisualizer(layout=Layout(align_self='stretch', height='500px'))"
      ]
     },
     "metadata": {},
     "output_type": "display_data"
    },
    {
     "name": "stdout",
     "output_type": "stream",
     "text": [
      "0:\tlearn: 0.6882832\ttotal: 38.7ms\tremaining: 19.3s\n",
      "499:\tlearn: 0.9092347\ttotal: 17.5s\tremaining: 0us\n"
     ]
    },
    {
     "data": {
      "text/plain": [
       "<catboost.core.CatBoostClassifier at 0x210a5f1ad30>"
      ]
     },
     "execution_count": 131,
     "metadata": {},
     "output_type": "execute_result"
    }
   ],
   "source": [
    "train_pool = Pool(\n",
    "    x_train, \n",
    "    y_train, \n",
    "    text_features=[0]\n",
    ")\n",
    "valid_pool = Pool(\n",
    "    x_test, \n",
    "    y_test,\n",
    "    text_features=[0]\n",
    "\n",
    ")\n",
    "\n",
    "catboost_params = {\n",
    "    'iterations': 500,\n",
    "    'learning_rate': 0.2,\n",
    "    'eval_metric': 'Accuracy',\n",
    "    'task_type': 'GPU',\n",
    "    'early_stopping_rounds': 300,\n",
    "    'use_best_model': True,\n",
    "    'verbose': 500,\n",
    "}\n",
    "\n",
    "model = CatBoostClassifier(**catboost_params)\n",
    "model.fit(train_pool, eval_set=valid_pool, plot=True)"
   ]
  },
  {
   "cell_type": "code",
   "execution_count": 98,
   "id": "ec6a00aa",
   "metadata": {},
   "outputs": [],
   "source": [
    "from sklearn.metrics import classification_report\n",
    "from sklearn.metrics import confusion_matrix    "
   ]
  },
  {
   "cell_type": "code",
   "execution_count": 132,
   "id": "72b85a09",
   "metadata": {},
   "outputs": [],
   "source": [
    "y_pred = model.predict(valid_pool)\n",
    "y_pred = y_pred.reshape(y_pred.shape[0])\n",
    "y_true = y_test\n",
    "labels = np.unique(y_true)"
   ]
  },
  {
   "cell_type": "code",
   "execution_count": 133,
   "id": "c797b75f",
   "metadata": {
    "scrolled": true
   },
   "outputs": [
    {
     "data": {
      "text/plain": [
       "((2054,), (2054,), (9,))"
      ]
     },
     "execution_count": 133,
     "metadata": {},
     "output_type": "execute_result"
    }
   ],
   "source": [
    "y_true.shape, y_pred.shape, labels.shape"
   ]
  },
  {
   "cell_type": "code",
   "execution_count": 134,
   "id": "196c4ff2",
   "metadata": {},
   "outputs": [
    {
     "name": "stdout",
     "output_type": "stream",
     "text": [
      "               precision    recall  f1-score   support\n",
      "\n",
      "         etat       0.83      0.74      0.78       141\n",
      "       inland       0.79      0.80      0.79       213\n",
      "international       0.84      0.86      0.85       280\n",
      "       kultur       0.73      0.87      0.79        98\n",
      "     panorama       0.81      0.77      0.79       337\n",
      "        sport       1.00      0.97      0.98       235\n",
      "          web       0.93      0.87      0.90       326\n",
      "   wirtschaft       0.80      0.84      0.82       298\n",
      " wissenschaft       0.83      0.94      0.88       126\n",
      "\n",
      "     accuracy                           0.85      2054\n",
      "    macro avg       0.84      0.85      0.84      2054\n",
      " weighted avg       0.85      0.85      0.85      2054\n",
      "\n"
     ]
    }
   ],
   "source": [
    "print(classification_report(y_true, y_pred, target_names=labels))"
   ]
  },
  {
   "cell_type": "code",
   "execution_count": 102,
   "id": "009067b7",
   "metadata": {},
   "outputs": [
    {
     "data": {
      "text/plain": [
       "array([[103,   1,  10,   7,   2,   2,   7,   0,   0],\n",
       "       [  4, 170,   0,   2,  16,   0,   1,   8,   2],\n",
       "       [  3,   4, 279,   0,  11,   0,   1,   7,   0],\n",
       "       [  9,   4,   1,  99,   4,   0,   3,   5,   0],\n",
       "       [  2,  16,  20,   5, 272,   0,   4,   6,   7],\n",
       "       [  3,   0,   1,   0,   3, 240,   0,   1,   0],\n",
       "       [  2,   7,   8,   1,   2,   0, 283,  12,   2],\n",
       "       [  3,   4,   5,   0,   9,   2,  14, 232,   4],\n",
       "       [  1,   4,   2,   4,   4,   0,   3,   7,  96]], dtype=int64)"
      ]
     },
     "execution_count": 102,
     "metadata": {},
     "output_type": "execute_result"
    }
   ],
   "source": [
    "cf_matrix = confusion_matrix(y_true, y_pred)\n",
    "cf_matrix"
   ]
  },
  {
   "cell_type": "code",
   "execution_count": 135,
   "id": "d2440c58",
   "metadata": {},
   "outputs": [
    {
     "data": {
      "image/png": "[encoded data removed]",
      "text/plain": [
       "<Figure size 1800x504 with 2 Axes>"
      ]
     },
     "metadata": {
      "needs_background": "light"
     },
     "output_type": "display_data"
    }
   ],
   "source": [
    "fig_dims = (25, 7)\n",
    "fig, ax = plt.subplots(figsize=fig_dims)\n",
    "plt.title('Category distribution over the testing dataset', fontsize=25)\n",
    "plt.xlabel('label', fontsize=24)\n",
    "plt.ylabel('count', fontsize=24)\n",
    "plt.xticks(fontsize=18)\n",
    "plt.yticks(fontsize=18) \n",
    "ax = sns.heatmap(cf_matrix, annot=True)"
   ]
  },
  {
   "cell_type": "markdown",
   "id": "7609d46b",
   "metadata": {},
   "source": [
    "# kfold training"
   ]
  },
  {
   "cell_type": "code",
   "execution_count": 117,
   "id": "44b9dd2c",
   "metadata": {},
   "outputs": [],
   "source": [
    "from sklearn.model_selection import KFold"
   ]
  },
  {
   "cell_type": "code",
   "execution_count": 118,
   "id": "20dac8e3",
   "metadata": {},
   "outputs": [],
   "source": [
    "df = pd.read_csv(os.path.join(DATA_PATH, \"articles.csv\"))"
   ]
  },
  {
   "cell_type": "code",
   "execution_count": 119,
   "id": "0f1ac904",
   "metadata": {},
   "outputs": [],
   "source": [
    "df = run_pre_processing_pipeline(df)"
   ]
  },
  {
   "cell_type": "code",
   "execution_count": 125,
   "id": "39e12858",
   "metadata": {},
   "outputs": [],
   "source": [
    "x = np.array(df[\"text\"])\n",
    "y = np.array(df[\"label\"])"
   ]
  },
  {
   "cell_type": "code",
   "execution_count": 122,
   "id": "7dc416c1",
   "metadata": {},
   "outputs": [],
   "source": [
    "kf = KFold(n_splits=5, shuffle=True)\n",
    "models = []"
   ]
  },
  {
   "cell_type": "code",
   "execution_count": 129,
   "id": "814b7865",
   "metadata": {},
   "outputs": [
    {
     "name": "stdout",
     "output_type": "stream",
     "text": [
      "0:\tlearn: 0.6803358\ttest: 0.7333333\tbest: 0.7333333 (0)\ttotal: 52.9ms\tremaining: 1m 19s\n",
      "500:\tlearn: 0.9072767\ttest: 0.8506083\tbest: 0.8540146 (156)\ttotal: 18.2s\tremaining: 36.3s\n",
      "bestTest = 0.8540145985\n",
      "bestIteration = 156\n",
      "Shrink model to first 157 iterations.\n",
      "0:\tlearn: 0.6837430\ttest: 0.7128954\tbest: 0.7128954 (0)\ttotal: 41.1ms\tremaining: 1m 1s\n",
      "500:\tlearn: 0.9125091\ttest: 0.8540146\tbest: 0.8583942 (406)\ttotal: 14s\tremaining: 27.9s\n",
      "1000:\tlearn: 0.9603310\ttest: 0.8574209\tbest: 0.8588808 (852)\ttotal: 27.5s\tremaining: 13.7s\n",
      "1499:\tlearn: 0.9824775\ttest: 0.8583942\tbest: 0.8593674 (1025)\ttotal: 40.9s\tremaining: 0us\n",
      "bestTest = 0.8593673966\n",
      "bestIteration = 1025\n",
      "Shrink model to first 1026 iterations.\n",
      "0:\tlearn: 0.7023607\ttest: 0.7065693\tbest: 0.7065693 (0)\ttotal: 40.1ms\tremaining: 1m\n",
      "500:\tlearn: 0.9137260\ttest: 0.8447689\tbest: 0.8481752 (400)\ttotal: 13.7s\tremaining: 27.4s\n",
      "1000:\tlearn: 0.9574106\ttest: 0.8486618\tbest: 0.8510949 (783)\ttotal: 27.1s\tremaining: 13.5s\n",
      "1499:\tlearn: 0.9812606\ttest: 0.8510949\tbest: 0.8530414 (1375)\ttotal: 40.3s\tremaining: 0us\n",
      "bestTest = 0.8530413625\n",
      "bestIteration = 1375\n",
      "Shrink model to first 1376 iterations.\n",
      "0:\tlearn: 0.6863365\ttest: 0.7147030\tbest: 0.7147030 (0)\ttotal: 43.6ms\tremaining: 1m 5s\n",
      "500:\tlearn: 0.9082613\ttest: 0.8500487\tbest: 0.8510224 (440)\ttotal: 14.3s\tremaining: 28.5s\n",
      "1000:\tlearn: 0.9574157\ttest: 0.8539435\tbest: 0.8544304 (991)\ttotal: 28.3s\tremaining: 14.1s\n",
      "1499:\tlearn: 0.9798029\ttest: 0.8549172\tbest: 0.8588121 (1162)\ttotal: 42.4s\tremaining: 0us\n",
      "bestTest = 0.858812074\n",
      "bestIteration = 1162\n",
      "Shrink model to first 1163 iterations.\n",
      "0:\tlearn: 0.6882832\ttest: 0.6898734\tbest: 0.6898734 (0)\ttotal: 42ms\tremaining: 1m 3s\n",
      "500:\tlearn: 0.9103297\ttest: 0.8456670\tbest: 0.8476144 (421)\ttotal: 13.7s\tremaining: 27.4s\n",
      "1000:\tlearn: 0.9586324\ttest: 0.8510224\tbest: 0.8529698 (774)\ttotal: 27.1s\tremaining: 13.5s\n",
      "1499:\tlearn: 0.9811413\ttest: 0.8515093\tbest: 0.8544304 (1276)\ttotal: 40.4s\tremaining: 0us\n",
      "bestTest = 0.8544303797\n",
      "bestIteration = 1276\n",
      "Shrink model to first 1277 iterations.\n"
     ]
    }
   ],
   "source": [
    "for i, (train_index, valid_index) in enumerate(kf.split(x)):\n",
    "    x_train, y_train = x[train_index], y[train_index]\n",
    "    x_test, y_test = x[valid_index], y[valid_index]\n",
    "    \n",
    "    train_pool = Pool(\n",
    "        x_train, \n",
    "        y_train, \n",
    "        text_features=[0]\n",
    "    )\n",
    "    valid_pool = Pool(\n",
    "        x_test, \n",
    "        y_test,\n",
    "        text_features=[0]\n",
    "    )\n",
    "    \n",
    "    model = CatBoostClassifier(**catboost_params)\n",
    "    model.fit(train_pool, eval_set=valid_pool)\n",
    "    models.append(model)"
   ]
  },
  {
   "cell_type": "code",
   "execution_count": null,
   "id": "1543c434",
   "metadata": {},
   "outputs": [],
   "source": []
  }
 ],
 "metadata": {
  "kernelspec": {
   "display_name": "kaggle-cell-segmentation",
   "language": "python",
   "name": "kaggle-cell-segmentation"
  },
  "language_info": {
   "codemirror_mode": {
    "name": "ipython",
    "version": 3
   },
   "file_extension": ".py",
   "mimetype": "text/x-python",
   "name": "python",
   "nbconvert_exporter": "python",
   "pygments_lexer": "ipython3",
   "version": "3.9.7"
  }
 },
 "nbformat": 4,
 "nbformat_minor": 5
}
