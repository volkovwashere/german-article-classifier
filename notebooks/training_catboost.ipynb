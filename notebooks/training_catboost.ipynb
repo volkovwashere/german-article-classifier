{
 "cells": [
  {
   "cell_type": "code",
   "execution_count": null,
   "id": "467c3b38",
   "metadata": {},
   "outputs": [],
   "source": [
    "import pandas as pd\n",
    "import os\n",
    "import re\n",
    "import seaborn as sns\n",
    "import matplotlib.pyplot as plt\n",
    "from nltk.corpus import stopwords\n",
    "import numpy as np\n",
    "import nltk"
   ]
  },
  {
   "cell_type": "code",
   "execution_count": null,
   "id": "f64f4dae",
   "metadata": {},
   "outputs": [],
   "source": [
    "german_stop_words = stopwords.words('german')\n",
    "german_stop_words.append(\"fur\")"
   ]
  },
  {
   "cell_type": "code",
   "execution_count": null,
   "id": "d3631259",
   "metadata": {},
   "outputs": [],
   "source": [
    "# CONSTANTS\n",
    "DATA_PATH = \"D:/10kgerdataset/\"\n",
    "TRAIN_CSV = \"train.csv\"\n",
    "TEST_CSV = \"test.csv\""
   ]
  },
  {
   "cell_type": "code",
   "execution_count": null,
   "id": "c09b0c15",
   "metadata": {},
   "outputs": [],
   "source": [
    "try:\n",
    "    df_train = pd.read_csv(os.path.join(DATA_PATH, TRAIN_CSV))\n",
    "    df_test = pd.read_csv(os.path.join(DATA_PATH, TEST_CSV))\n",
    "except FileNotFoundError:\n",
    "    print(\"File was not found at specific location.\")\n",
    "    raise"
   ]
  },
  {
   "cell_type": "code",
   "execution_count": null,
   "id": "64b969da",
   "metadata": {},
   "outputs": [],
   "source": [
    "def remove_punctuation(document: str) -> str:\n",
    "    return re.sub(r'[^\\w\\s]', '', document)\n",
    "\n",
    "def remove_numbers(document: str) -> str:\n",
    "    return re.sub(r'$\\d+\\W+|\\b\\d+\\b|\\W+\\d+$', '', document)\n",
    "\n",
    "def map_umlaut(document: str) -> str:\n",
    "    umlaut_mapping = {\n",
    "        \"ß\": \"b\",\n",
    "        \"ü\": \"u\",\n",
    "        \"ä\": \"a\",\n",
    "        \"ö\": \"o\",\n",
    "        \"ë\": \"e\",\n",
    "    }\n",
    "    for k, v in umlaut_mapping.items():\n",
    "        document = document.replace(k, v)\n",
    "    return document\n",
    "\n",
    "def stop_word_removal(document: str) -> str:\n",
    "    return \" \".join(w for w in document.split() if w not in german_stop_words)"
   ]
  },
  {
   "cell_type": "code",
   "execution_count": null,
   "id": "da1c31a9",
   "metadata": {},
   "outputs": [],
   "source": [
    "def run_pre_processing_pipeline(df):\n",
    "    new_df = df.copy(deep=False)\n",
    "    \n",
    "    new_df[\"text\"] = new_df[\"text\"].str.lower()\n",
    "    new_df[\"label\"] = new_df[\"label\"].str.lower()\n",
    "    \n",
    "    new_df = new_df.dropna()\n",
    "    \n",
    "    new_df[\"text\"] = new_df[\"text\"].apply(remove_punctuation)\n",
    "    new_df[\"text\"] = new_df[\"text\"].apply(remove_numbers)\n",
    "    new_df[\"text\"] = new_df[\"text\"].apply(map_umlaut)\n",
    "    new_df[\"text\"] = new_df[\"text\"].apply(stop_word_removal)\n",
    "    return new_df"
   ]
  },
  {
   "cell_type": "code",
   "execution_count": null,
   "id": "30816423",
   "metadata": {},
   "outputs": [],
   "source": [
    "df_train = run_pre_processing_pipeline(df_train)\n",
    "df_test = run_pre_processing_pipeline(df_test)"
   ]
  },
  {
   "cell_type": "code",
   "execution_count": null,
   "id": "19f0649e",
   "metadata": {},
   "outputs": [],
   "source": [
    "text_features = [\"text\"]"
   ]
  },
  {
   "cell_type": "code",
   "execution_count": null,
   "id": "a9e68056",
   "metadata": {},
   "outputs": [],
   "source": [
    "x_train = np.array(df_train[\"text\"])\n",
    "y_train = np.array(df_train[\"label\"])\n",
    "x_test = np.array(df_test[\"text\"])\n",
    "y_test = np.array(df_test[\"label\"])"
   ]
  },
  {
   "cell_type": "code",
   "execution_count": null,
   "id": "d1b3c39d",
   "metadata": {},
   "outputs": [],
   "source": [
    "from catboost import Pool, CatBoostClassifier"
   ]
  },
  {
   "cell_type": "code",
   "execution_count": null,
   "id": "904939d7",
   "metadata": {},
   "outputs": [],
   "source": [
    "from sklearn.utils.class_weight import compute_class_weight\n",
    " \n",
    "classes = np.unique(y_train)\n",
    "weights = compute_class_weight(class_weight='balanced', classes=classes, y=y_train)"
   ]
  },
  {
   "cell_type": "code",
   "execution_count": null,
   "id": "1aeb1b21",
   "metadata": {
    "scrolled": true
   },
   "outputs": [],
   "source": [
    "train_pool = Pool(\n",
    "    x_train, \n",
    "    y_train, \n",
    "    text_features=[0]\n",
    ")\n",
    "valid_pool = Pool(\n",
    "    x_test, \n",
    "    y_test,\n",
    "    text_features=[0]\n",
    "\n",
    ")\n",
    "\n",
    "catboost_params = {\n",
    "    'iterations': 500,\n",
    "    'learning_rate': 0.2,\n",
    "    'eval_metric': 'Accuracy',\n",
    "    'task_type': 'GPU',\n",
    "    'early_stopping_rounds': 300,\n",
    "    'use_best_model': True,\n",
    "    'verbose': 500,\n",
    "}\n",
    "\n",
    "model = CatBoostClassifier(**catboost_params)\n",
    "model.fit(train_pool, eval_set=valid_pool, plot=True)"
   ]
  },
  {
   "cell_type": "code",
   "execution_count": null,
   "id": "e5642989",
   "metadata": {},
   "outputs": [],
   "source": [
    "from sklearn.metrics import classification_report\n",
    "from sklearn.metrics import confusion_matrix    "
   ]
  },
  {
   "cell_type": "code",
   "execution_count": null,
   "id": "428bc9b8",
   "metadata": {},
   "outputs": [],
   "source": [
    "y_pred = model.predict(valid_pool)\n",
    "y_pred = y_pred.reshape(y_pred.shape[0])\n",
    "y_true = y_test\n",
    "labels = np.unique(y_true)"
   ]
  },
  {
   "cell_type": "code",
   "execution_count": null,
   "id": "42c7679b",
   "metadata": {
    "scrolled": true
   },
   "outputs": [],
   "source": [
    "y_true.shape, y_pred.shape, labels.shape"
   ]
  },
  {
   "cell_type": "code",
   "execution_count": null,
   "id": "76214998",
   "metadata": {},
   "outputs": [],
   "source": [
    "print(classification_report(y_true, y_pred, target_names=labels))"
   ]
  },
  {
   "cell_type": "code",
   "execution_count": null,
   "id": "a056acea",
   "metadata": {},
   "outputs": [],
   "source": [
    "cf_matrix = confusion_matrix(y_true, y_pred)\n",
    "cf_matrix"
   ]
  },
  {
   "cell_type": "code",
   "execution_count": null,
   "id": "2acf4000",
   "metadata": {},
   "outputs": [],
   "source": [
    "fig_dims = (15, 15)\n",
    "fig, ax = plt.subplots(figsize=fig_dims)\n",
    "plt.title('Category distribution over the testing dataset', fontsize=25)\n",
    "plt.xlabel('label', fontsize=24)\n",
    "plt.ylabel('count', fontsize=24)\n",
    "plt.xticks(fontsize=18)\n",
    "plt.yticks(fontsize=18) \n",
    "ax = sns.heatmap(cf_matrix, annot=True, fmt='d')"
   ]
  },
  {
   "cell_type": "markdown",
   "id": "2aef1d9c",
   "metadata": {},
   "source": [
    "# kfold training"
   ]
  },
  {
   "cell_type": "code",
   "execution_count": null,
   "id": "e3483d45",
   "metadata": {},
   "outputs": [],
   "source": [
    "from sklearn.model_selection import KFold"
   ]
  },
  {
   "cell_type": "code",
   "execution_count": null,
   "id": "fdcfe6ac",
   "metadata": {},
   "outputs": [],
   "source": [
    "df = pd.read_csv(os.path.join(DATA_PATH, \"articles.csv\"))"
   ]
  },
  {
   "cell_type": "code",
   "execution_count": null,
   "id": "9de66df0",
   "metadata": {},
   "outputs": [],
   "source": [
    "df = run_pre_processing_pipeline(df)"
   ]
  },
  {
   "cell_type": "code",
   "execution_count": null,
   "id": "494cf99a",
   "metadata": {},
   "outputs": [],
   "source": [
    "x = np.array(df[\"text\"])\n",
    "y = np.array(df[\"label\"])"
   ]
  },
  {
   "cell_type": "code",
   "execution_count": null,
   "id": "46e57ecd",
   "metadata": {},
   "outputs": [],
   "source": [
    "kf = KFold(n_splits=5, shuffle=True)\n",
    "models = []"
   ]
  },
  {
   "cell_type": "code",
   "execution_count": null,
   "id": "9341be66",
   "metadata": {},
   "outputs": [],
   "source": [
    "for i, (train_index, valid_index) in enumerate(kf.split(x)):\n",
    "    x_train, y_train = x[train_index], y[train_index]\n",
    "    x_test, y_test = x[valid_index], y[valid_index]\n",
    "    \n",
    "    train_pool = Pool(\n",
    "        x_train, \n",
    "        y_train, \n",
    "        text_features=[0]\n",
    "    )\n",
    "    valid_pool = Pool(\n",
    "        x_test, \n",
    "        y_test,\n",
    "        text_features=[0]\n",
    "    )\n",
    "    \n",
    "    model = CatBoostClassifier(**catboost_params)\n",
    "    model.fit(train_pool, eval_set=valid_pool)\n",
    "    models.append(model)"
   ]
  },
  {
   "cell_type": "code",
   "execution_count": null,
   "id": "f841eb45",
   "metadata": {},
   "outputs": [],
   "source": []
  }
 ],
 "metadata": {
  "kernelspec": {
   "display_name": "kaggle-cell-segmentation",
   "language": "python",
   "name": "kaggle-cell-segmentation"
  },
  "language_info": {
   "codemirror_mode": {
    "name": "ipython",
    "version": 3
   },
   "file_extension": ".py",
   "mimetype": "text/x-python",
   "name": "python",
   "nbconvert_exporter": "python",
   "pygments_lexer": "ipython3",
   "version": "3.9.7"
  }
 },
 "nbformat": 4,
 "nbformat_minor": 5
}
